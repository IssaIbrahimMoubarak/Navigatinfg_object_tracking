{
 "cells": [
  {
   "cell_type": "markdown",
   "metadata": {},
   "source": [
    "### Importations"
   ]
  },
  {
   "cell_type": "code",
   "execution_count": 1,
   "metadata": {},
   "outputs": [],
   "source": [
    "import os, sys, cv2, numpy as np, matplotlib.pyplot as plt, subprocess\n",
    "from base64 import b64encode\n",
    "from IPython.display import HTML"
   ]
  },
  {
   "cell_type": "markdown",
   "metadata": {},
   "source": [
    "#### Vérification des Versions"
   ]
  },
  {
   "cell_type": "code",
   "execution_count": 2,
   "metadata": {},
   "outputs": [
    {
     "name": "stdout",
     "output_type": "stream",
     "text": [
      "numpy 1.26.4\n",
      "openCV 4.10.0\n"
     ]
    }
   ],
   "source": [
    "# Check the version\n",
    "print(\"numpy \" + np.__version__)\n",
    "print(\"openCV \" + cv2.__version__)"
   ]
  },
  {
   "cell_type": "markdown",
   "metadata": {},
   "source": [
    "### Fonctions de Dessin"
   ]
  },
  {
   "cell_type": "code",
   "execution_count": 3,
   "metadata": {},
   "outputs": [],
   "source": [
    "def drawRectangle(frame, bbox):\n",
    "    p1 = (int(bbox[0]), int(bbox[1]))\n",
    "    p2 = (int(bbox[0] + bbox[2]), int(bbox[1] + bbox[3]))\n",
    "    cv2.rectangle(frame, p1, p2, (255, 0, 0), 2, 1)"
   ]
  },
  {
   "cell_type": "markdown",
   "metadata": {},
   "source": [
    "### Dessin de Texte (FPS, Infos sur le Tracker)"
   ]
  },
  {
   "cell_type": "code",
   "execution_count": 4,
   "metadata": {},
   "outputs": [],
   "source": [
    "def drawText(frame, txt, location, color=(50, 170, 50)):\n",
    "    cv2.putText(frame, txt, location, cv2.FONT_HERSHEY_SIMPLEX, 1, color, 3)"
   ]
  },
  {
   "cell_type": "markdown",
   "metadata": {},
   "source": [
    "### Initialisation du Tracker"
   ]
  },
  {
   "cell_type": "code",
   "execution_count": 5,
   "metadata": {},
   "outputs": [],
   "source": [
    "tracker_types = [\"BOOSTING\", \"MIL\", \"KCF\", \"CSRT\", \"TLD\", \"MEDIANFLOW\", \"GOTURN\", \"MOSSE\"]\n",
    "tracker_type = tracker_types[2]  # Using KCF tracker\n",
    "\n",
    "if tracker_type == \"BOOSTING\":\n",
    "    tracker = cv2.legacy.TrackerBoosting_create()\n",
    "elif tracker_type == \"MIL\":\n",
    "    tracker = cv2.legacy.TrackerMIL_create()\n",
    "elif tracker_type == \"KCF\":\n",
    "    tracker = cv2.TrackerKCF_create()\n",
    "elif tracker_type == \"CSRT\":\n",
    "    tracker = cv2.TrackerCSRT_create()\n",
    "elif tracker_type == \"TLD\":\n",
    "    tracker = cv2.legacy.TrackerTLD_create()\n",
    "elif tracker_type == \"MEDIANFLOW\":\n",
    "    tracker = cv2.legacy.TrackerMedianFlow_create()\n",
    "elif tracker_type == \"GOTURN\":\n",
    "    tracker = cv2.TrackerGOTURN_create()\n",
    "else:\n",
    "    tracker = cv2.legacy.TrackerMOSSE_create()"
   ]
  },
  {
   "cell_type": "markdown",
   "metadata": {},
   "source": [
    "### Initialisation du Subtracteur de Fond"
   ]
  },
  {
   "cell_type": "code",
   "execution_count": 6,
   "metadata": {},
   "outputs": [],
   "source": [
    "backSub = cv2.createBackgroundSubtractorMOG2(history=500, varThreshold=50, detectShadows=True)"
   ]
  },
  {
   "cell_type": "markdown",
   "metadata": {},
   "source": [
    "### Configuration de la Vidéo d'Entrée et de Sortie"
   ]
  },
  {
   "cell_type": "code",
   "execution_count": 7,
   "metadata": {},
   "outputs": [],
   "source": [
    "video_input_file_name = \"./video_car_2.mp4\"\n",
    "video = cv2.VideoCapture(video_input_file_name)\n",
    "\n",
    "if not video.isOpened():\n",
    "    print(\"Could not open video\")\n",
    "    sys.exit()\n",
    "\n",
    "width = int(video.get(cv2.CAP_PROP_FRAME_WIDTH))\n",
    "height = int(video.get(cv2.CAP_PROP_FRAME_HEIGHT))\n",
    "\n",
    "fps_output = 5  # FPS pour la sortie\n",
    "video_output_file_name = \"tracked_multiple_objects.mp4\"\n",
    "video_out = cv2.VideoWriter(video_output_file_name, cv2.VideoWriter_fourcc(*\"XVID\"), fps_output, (width, height))"
   ]
  },
  {
   "cell_type": "markdown",
   "metadata": {},
   "source": [
    "### Boucle de Traitement de la Vidéo"
   ]
  },
  {
   "cell_type": "code",
   "execution_count": 8,
   "metadata": {},
   "outputs": [],
   "source": [
    "while True:\n",
    "    ok, frame = video.read()\n",
    "    if not ok:\n",
    "        break\n",
    "\n",
    "    # Apply background subtraction to detect moving objects\n",
    "    fgMask = backSub.apply(frame)\n",
    "\n",
    "    # Find contours of moving objects\n",
    "    contours, _ = cv2.findContours(fgMask, cv2.RETR_EXTERNAL, cv2.CHAIN_APPROX_SIMPLE)\n",
    "\n",
    "    # Draw bounding boxes around detected objects\n",
    "    for contour in contours:\n",
    "        if cv2.contourArea(contour) > 500:  # Filter small objects (noise)\n",
    "            (x, y, w, h) = cv2.boundingRect(contour)\n",
    "            drawRectangle(frame, (x, y, w, h))\n",
    "\n",
    "    # Draw FPS on the frame\n",
    "    fps = video.get(cv2.CAP_PROP_FPS)\n",
    "    drawText(frame, f\"FPS: {fps:.2f}\", (10, 40))\n",
    "\n",
    "    # Display the resulting frame\n",
    "    cv2.imshow(\"Tracking\", frame)\n",
    "\n",
    "    # Write the frame to output video\n",
    "    video_out.write(frame)\n",
    "\n",
    "    # Exit on 'q' key press\n",
    "    if cv2.waitKey(1) & 0xFF == ord('q'):\n",
    "        break\n",
    "\n",
    "# Release resources\n",
    "video.release()\n",
    "video_out.release()\n",
    "cv2.destroyAllWindows()"
   ]
  },
  {
   "cell_type": "markdown",
   "metadata": {},
   "source": [
    "### Conversion en Format H.264 avec ffmpeg"
   ]
  },
  {
   "cell_type": "code",
   "execution_count": 9,
   "metadata": {},
   "outputs": [],
   "source": [
    "\n",
    "output_h264 = f\"tracked_{tracker_type}_h264.mp4\"\n",
    "subprocess.run(['ffmpeg', '-y', '-i', video_output_file_name, '-vcodec', 'libx264', output_h264], check=True)\n",
    "\n",
    "if os.path.exists(output_h264):\n",
    "    with open(output_h264, \"rb\") as f:\n",
    "        mp4 = f.read()\n",
    "    data_url = f\"data:video/mp4;base64,{b64encode(mp4).decode()}\"\n",
    "    HTML(f\"\"\"<video width=640 controls><source src=\"{data_url}\" type=\"video/mp4\"></video>\"\"\")\n",
    "else:\n",
    "    print(f\"Error: {output_h264} not found.\")"
   ]
  }
 ],
 "metadata": {
  "kernelspec": {
   "display_name": "Python 3",
   "language": "python",
   "name": "python3"
  },
  "language_info": {
   "codemirror_mode": {
    "name": "ipython",
    "version": 3
   },
   "file_extension": ".py",
   "mimetype": "text/x-python",
   "name": "python",
   "nbconvert_exporter": "python",
   "pygments_lexer": "ipython3",
   "version": "3.12.4"
  }
 },
 "nbformat": 4,
 "nbformat_minor": 2
}
